{
  "nbformat": 4,
  "nbformat_minor": 0,
  "metadata": {
    "colab": {
      "provenance": []
    },
    "kernelspec": {
      "name": "python3",
      "display_name": "Python 3"
    },
    "language_info": {
      "name": "python"
    }
  },
  "cells": [
    {
      "cell_type": "code",
      "source": [
        "!pip install --upgrade mlxtend"
      ],
      "metadata": {
        "colab": {
          "base_uri": "https://localhost:8080/"
        },
        "id": "ymXhTOrA5lSz",
        "outputId": "25103240-b202-48e3-ea47-868088ed82e8"
      },
      "execution_count": 2,
      "outputs": [
        {
          "output_type": "stream",
          "name": "stderr",
          "text": [
            "/usr/local/lib/python3.10/dist-packages/ipykernel/ipkernel.py:283: DeprecationWarning: `should_run_async` will not call `transform_cell` automatically in the future. Please pass the result to `transformed_cell` argument and any exception that happen during thetransform in `preprocessing_exc_tuple` in IPython 7.17 and above.\n",
            "  and should_run_async(code)\n"
          ]
        },
        {
          "output_type": "stream",
          "name": "stdout",
          "text": [
            "Requirement already satisfied: mlxtend in /usr/local/lib/python3.10/dist-packages (0.23.3)\n",
            "Requirement already satisfied: scipy>=1.2.1 in /usr/local/lib/python3.10/dist-packages (from mlxtend) (1.13.1)\n",
            "Requirement already satisfied: numpy>=1.16.2 in /usr/local/lib/python3.10/dist-packages (from mlxtend) (1.26.4)\n",
            "Requirement already satisfied: pandas>=0.24.2 in /usr/local/lib/python3.10/dist-packages (from mlxtend) (2.2.2)\n",
            "Requirement already satisfied: scikit-learn>=1.3.1 in /usr/local/lib/python3.10/dist-packages (from mlxtend) (1.6.0)\n",
            "Requirement already satisfied: matplotlib>=3.0.0 in /usr/local/lib/python3.10/dist-packages (from mlxtend) (3.10.0)\n",
            "Requirement already satisfied: joblib>=0.13.2 in /usr/local/lib/python3.10/dist-packages (from mlxtend) (1.4.2)\n",
            "Requirement already satisfied: contourpy>=1.0.1 in /usr/local/lib/python3.10/dist-packages (from matplotlib>=3.0.0->mlxtend) (1.3.1)\n",
            "Requirement already satisfied: cycler>=0.10 in /usr/local/lib/python3.10/dist-packages (from matplotlib>=3.0.0->mlxtend) (0.12.1)\n",
            "Requirement already satisfied: fonttools>=4.22.0 in /usr/local/lib/python3.10/dist-packages (from matplotlib>=3.0.0->mlxtend) (4.55.3)\n",
            "Requirement already satisfied: kiwisolver>=1.3.1 in /usr/local/lib/python3.10/dist-packages (from matplotlib>=3.0.0->mlxtend) (1.4.8)\n",
            "Requirement already satisfied: packaging>=20.0 in /usr/local/lib/python3.10/dist-packages (from matplotlib>=3.0.0->mlxtend) (24.2)\n",
            "Requirement already satisfied: pillow>=8 in /usr/local/lib/python3.10/dist-packages (from matplotlib>=3.0.0->mlxtend) (11.1.0)\n",
            "Requirement already satisfied: pyparsing>=2.3.1 in /usr/local/lib/python3.10/dist-packages (from matplotlib>=3.0.0->mlxtend) (3.2.1)\n",
            "Requirement already satisfied: python-dateutil>=2.7 in /usr/local/lib/python3.10/dist-packages (from matplotlib>=3.0.0->mlxtend) (2.8.2)\n",
            "Requirement already satisfied: pytz>=2020.1 in /usr/local/lib/python3.10/dist-packages (from pandas>=0.24.2->mlxtend) (2024.2)\n",
            "Requirement already satisfied: tzdata>=2022.7 in /usr/local/lib/python3.10/dist-packages (from pandas>=0.24.2->mlxtend) (2024.2)\n",
            "Requirement already satisfied: threadpoolctl>=3.1.0 in /usr/local/lib/python3.10/dist-packages (from scikit-learn>=1.3.1->mlxtend) (3.5.0)\n",
            "Requirement already satisfied: six>=1.5 in /usr/local/lib/python3.10/dist-packages (from python-dateutil>=2.7->matplotlib>=3.0.0->mlxtend) (1.17.0)\n"
          ]
        }
      ]
    },
    {
      "cell_type": "code",
      "execution_count": 10,
      "metadata": {
        "colab": {
          "base_uri": "https://localhost:8080/"
        },
        "id": "5RG5BJW53iDa",
        "outputId": "16aec128-0b08-4537-d5d1-24b1fda79934"
      },
      "outputs": [
        {
          "output_type": "stream",
          "name": "stdout",
          "text": [
            "Frequent Itemsets:\n",
            "   support      itemsets\n",
            "0    0.875          (I1)\n",
            "1    0.875          (I2)\n",
            "2    0.875          (I3)\n",
            "3    0.750      (I2, I1)\n",
            "4    0.750      (I1, I3)\n",
            "5    0.750      (I2, I3)\n",
            "6    0.625  (I2, I1, I3)\n",
            "\n",
            "Association Rules:\n",
            "   antecedents consequents  antecedent support  consequent support  support  \\\n",
            "0         (I2)        (I1)               0.875               0.875    0.750   \n",
            "1         (I1)        (I2)               0.875               0.875    0.750   \n",
            "2         (I1)        (I3)               0.875               0.875    0.750   \n",
            "3         (I3)        (I1)               0.875               0.875    0.750   \n",
            "4         (I2)        (I3)               0.875               0.875    0.750   \n",
            "5         (I3)        (I2)               0.875               0.875    0.750   \n",
            "6     (I2, I1)        (I3)               0.750               0.875    0.625   \n",
            "7     (I2, I3)        (I1)               0.750               0.875    0.625   \n",
            "8     (I1, I3)        (I2)               0.750               0.875    0.625   \n",
            "9         (I2)    (I1, I3)               0.875               0.750    0.625   \n",
            "10        (I1)    (I2, I3)               0.875               0.750    0.625   \n",
            "11        (I3)    (I2, I1)               0.875               0.750    0.625   \n",
            "\n",
            "    confidence      lift  representativity  leverage  conviction  \\\n",
            "0     0.857143  0.979592               1.0 -0.015625       0.875   \n",
            "1     0.857143  0.979592               1.0 -0.015625       0.875   \n",
            "2     0.857143  0.979592               1.0 -0.015625       0.875   \n",
            "3     0.857143  0.979592               1.0 -0.015625       0.875   \n",
            "4     0.857143  0.979592               1.0 -0.015625       0.875   \n",
            "5     0.857143  0.979592               1.0 -0.015625       0.875   \n",
            "6     0.833333  0.952381               1.0 -0.031250       0.750   \n",
            "7     0.833333  0.952381               1.0 -0.031250       0.750   \n",
            "8     0.833333  0.952381               1.0 -0.031250       0.750   \n",
            "9     0.714286  0.952381               1.0 -0.031250       0.875   \n",
            "10    0.714286  0.952381               1.0 -0.031250       0.875   \n",
            "11    0.714286  0.952381               1.0 -0.031250       0.875   \n",
            "\n",
            "    zhangs_metric  jaccard  certainty  kulczynski  \n",
            "0       -0.142857    0.750  -0.142857    0.857143  \n",
            "1       -0.142857    0.750  -0.142857    0.857143  \n",
            "2       -0.142857    0.750  -0.142857    0.857143  \n",
            "3       -0.142857    0.750  -0.142857    0.857143  \n",
            "4       -0.142857    0.750  -0.142857    0.857143  \n",
            "5       -0.142857    0.750  -0.142857    0.857143  \n",
            "6       -0.166667    0.625  -0.333333    0.773810  \n",
            "7       -0.166667    0.625  -0.333333    0.773810  \n",
            "8       -0.166667    0.625  -0.333333    0.773810  \n",
            "9       -0.285714    0.625  -0.142857    0.773810  \n",
            "10      -0.285714    0.625  -0.142857    0.773810  \n",
            "11      -0.285714    0.625  -0.142857    0.773810  \n"
          ]
        },
        {
          "output_type": "stream",
          "name": "stderr",
          "text": [
            "/usr/local/lib/python3.10/dist-packages/ipykernel/ipkernel.py:283: DeprecationWarning: `should_run_async` will not call `transform_cell` automatically in the future. Please pass the result to `transformed_cell` argument and any exception that happen during thetransform in `preprocessing_exc_tuple` in IPython 7.17 and above.\n",
            "  and should_run_async(code)\n"
          ]
        }
      ],
      "source": [
        "# Importing required libraries\n",
        "from mlxtend.frequent_patterns import apriori, association_rules\n",
        "import pandas as pd\n",
        "\n",
        "# Transactions\n",
        "data = [\n",
        "    ['I1', 'I2', 'I3'],  # T1\n",
        "    ['I2', 'I3'],        # T2\n",
        "    ['I1', 'I2', 'I3'],  # T3\n",
        "    ['I1', 'I3'],        # T4\n",
        "    ['I1', 'I2', 'I3'],  # T5\n",
        "    ['I1', 'I2', 'I3'],   # T6\n",
        "    ['I1', 'I2', 'I3', 'I4'],   # T7\n",
        "    ['I1', 'I2', 'I4']   # T8\n",
        "]\n",
        "\n",
        "# Create a DataFrame for one-hot encoding\n",
        "items = sorted({item for transaction in data for item in transaction})\n",
        "encoded_data = pd.DataFrame([{item: (item in transaction) for item in items} for transaction in data])\n",
        "\n",
        "# Applying Apriori Algorithm\n",
        "min_support = 0.5  # Minimum support threshold\n",
        "frequent_itemsets = apriori(encoded_data, min_support=min_support, use_colnames=True)\n",
        "\n",
        "# Generating Association Rules\n",
        "min_confidence = 0.7  # Minimum confidence threshold\n",
        "rules = association_rules(frequent_itemsets, metric=\"confidence\", min_threshold=min_confidence, num_itemsets= 4)\n",
        "\n",
        "# Display Results\n",
        "print(\"Frequent Itemsets:\")\n",
        "print(frequent_itemsets)\n",
        "print(\"\\nAssociation Rules:\")\n",
        "print(rules)\n"
      ]
    }
  ]
}